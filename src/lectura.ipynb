{
 "cells": [
  {
   "cell_type": "code",
   "execution_count": 34,
   "metadata": {},
   "outputs": [],
   "source": [
    "import pandas as pd\n",
    "import re\n",
    "import json\n",
    "import numpy as np"
   ]
  },
  {
   "cell_type": "code",
   "execution_count": 2,
   "metadata": {},
   "outputs": [],
   "source": [
    "df = pd.read_excel(\"../data-silabos/Catálogo detalles completo 2020.xlsx\", engine='openpyxl')"
   ]
  },
  {
   "cell_type": "code",
   "execution_count": 3,
   "metadata": {},
   "outputs": [
    {
     "data": {
      "text/plain": [
       "Index(['Entregado en', 'FACULTAD', 'Organización Académica', 'Catálogo',\n",
       "       'Grado', 'ID Curso', 'Nombre asignatura', 'Nombre Largo',\n",
       "       'Descripcion Asig', 'Créditos', 'F Efva', 'Total Horas Contacto',\n",
       "       'Horas contacto semana', 'PRT', 'TEO', 'TPR',\n",
       "       'Condiciones o prerrequisitos', 'Objetivos de Formacion',\n",
       "       'Result Aprendizaje Esperados', 'Contenidos Tematicos',\n",
       "       'Estrategias Pedagogicas', 'Evaluacion', 'Recursos Bibliograficos',\n",
       "       'Asignatura Cerrada', 'Asignatura Coterminal', 'Filosófico',\n",
       "       'En plan de transición', 'Trabajo de Grado', 'Tesis Doctoral',\n",
       "       'Docencia servicio', 'Práctica Profesional - empresarial',\n",
       "       'Práctica Social - comunitaria', 'Práctica Pedagógica',\n",
       "       'Práctica Jurídica', 'Práctica Emprendimiento', '1710', '1730', '1810',\n",
       "       '1830', '1910', '1930', '2010', '2030', 'ID sin parametrizar',\n",
       "       'Gradebook no parametrizado', 'Unnamed: 45', 'Unnamed: 46'],\n",
       "      dtype='object')"
      ]
     },
     "execution_count": 3,
     "metadata": {},
     "output_type": "execute_result"
    }
   ],
   "source": [
    "df.columns"
   ]
  },
  {
   "cell_type": "code",
   "execution_count": 4,
   "metadata": {},
   "outputs": [
    {
     "data": {
      "text/plain": [
       "Sin Informacion                                                                                                                                                                                                                                                                                                                                                                                                                                                                                                                                                                                                                                                                                                                                                                                                                                                                                                                                                                                                                                                                                                                                                                                                                                                                                                                                                                                                                                                                                                                                                                                                                                                                                                                                                                                                                                                                                                                                                                                                                                                                                                                                                                                                                                                                                                                                                                                                                                                                                                                                                                                                                                                                                                                                                                                                                                                                                                                                                                                                                                                                                                                                                                                                                                                                                                                                                                                                                                                                                                                                                                                                                                                                                                                                                                                                                                                                                                                                                                                                                                                                                                             868\n",
       "Sin información.                                                                                                                                                                                                                                                                                                                                                                                                                                                                                                                                                                                                                                                                                                                                                                                                                                                                                                                                                                                                                                                                                                                                                                                                                                                                                                                                                                                                                                                                                                                                                                                                                                                                                                                                                                                                                                                                                                                                                                                                                                                                                                                                                                                                                                                                                                                                                                                                                                                                                                                                                                                                                                                                                                                                                                                                                                                                                                                                                                                                                                                                                                                                                                                                                                                                                                                                                                                                                                                                                                                                                                                                                                                                                                                                                                                                                                                                                                                                                                                                                                                                                                            182\n",
       "Los recursos bibliográficos requeridos para cada investigación dependen de la temática específica que trabaja cada estudiante.                                                                                                                                                                                                                                                                                                                                                                                                                                                                                                                                                                                                                                                                                                                                                                                                                                                                                                                                                                                                                                                                                                                                                                                                                                                                                                                                                                                                                                                                                                                                                                                                                                                                                                                                                                                                                                                                                                                                                                                                                                                                                                                                                                                                                                                                                                                                                                                                                                                                                                                                                                                                                                                                                                                                                                                                                                                                                                                                                                                                                                                                                                                                                                                                                                                                                                                                                                                                                                                                                                                                                                                                                                                                                                                                                                                                                                                                                                                                                                                              100\n",
       "Del Mar, Norman. 2009. Anatomy of the Orchestra. London: Faber and Faber.Lawson, Colin and Robin Stowell. The Historical Performance of Music: An Introduction.Cambridge: Cambridge University Press.Leinsdorf,Erich. 1982.The Composer¿s Advocate: A Radical Ortodoxy for Musicians. New Haven: Yale University Press.McElheran, Brock. 1989. Conducting Technique: For Beginners and Professionals. Oxford: Oxford University Press.Scherchen, Hermann. 1990. Handbook of Conducting.Oxford: Oxford University Press.Thurmond, James Morgan. 2000. Note Grouping: A Method for Achieving Expression and Style in Musical Performance. Galesville: Meredith Music.Brown, Howard Mayer. 1990. Performance Practice: Music After 1600. W.W. Norton & Company.Morris, R.O, and Ferguson, Howard. 1968. Preparatory Exercises in Score Reading.Oxford: Oxford University Press.Daniels, David. 2005. Orchestral Music: A Handbook. Lanham:Scarecrow Press.Stowell, Robin.1990. Violin Technique and Performance Practice in the Late Eighteenth and Early Nineteenth Centuries. Cambridge: Cambridge University Press.Harnoncourt,Nikolaus. 1995. Baroque Music Today: Music as Speech, Ways to a New Understanding of Music. Portland: Amadeus Press.----- 2005. The Musical Dialogue: Thoughts on Monteverdi, Bach and Mozart.Portland: Amadeus Press.Labuta, Joseph A. 1989. Basic Conducting Techniques. New Jersey: Prentice Hall.Hunsberger, Donald y Roy E. Ernst. 1992. The Art of Conducting. New York: McGraw-Hill. Brown, Peter. 2007. The Symphonic Repertoire. Bloomington: Indiana University Press.                                                                                                                                                                                                                                                                                                                                                                                                                                                                                                                                                                                                                                                                                                                                                                                                                                                                                                                                                                                                                                                                                                                                                                                                                                                                                                                                                                                                                                                                                                                                                                                                                                                                                                                                                                                                                                                                                                                                                                                                                                                                                                                                                                                                                                                                                                                                                                                                                                                                                                              38\n",
       "The Eugene Rousseau Libros I y II. Método para Saxofón Klosé. The Technique of the Saxophone Vol 1, 2, 3 Joseph Viola.Creative reading studies for Saxophone Books 1,2,3 Joseph Viola. Métodos de estudio progresivo para Saxofón de Marcel Mule. Selección de estudios melódicos de J Voxman. 48 Famosos estudios de Ferling. Real Book (Todos los Volumenes) The New Real Book. Sher Music  Co. (Todos los Volúmenes) Parker, Charile. Omnibook.                                                                                                                                                                                                                                                                                                                                                                                                                                                                                                                                                                                                                                                                                                                                                                                                                                                                                                                                                                                                                                                                                                                                                                                                                                                                                                                                                                                                                                                                                                                                                                                                                                                                                                                                                                                                                                                                                                                                                                                                                                                                                                                                                                                                                                                                                                                                                                                                                                                                                                                                                                                                                                                                                                                                                                                                                                                                                                                                                                                                                                                                                                                                                                                                                                                                                                                                                                                                                                                                                                                                                                                                                                                                           34\n",
       "                                                                                                                                                                                                                                                                                                                                                                                                                                                                                                                                                                                                                                                                                                                                                                                                                                                                                                                                                                                                                                                                                                                                                                                                                                                                                                                                                                                                                                                                                                                                                                                                                                                                                                                                                                                                                                                                                                                                                                                                                                                                                                                                                                                                                                                                                                                                                                                                                                                                                                                                                                                                                                                                                                                                                                                                                                                                                                                                                                                                                                                                                                                                                                                                                                                                                                                                                                                                                                                                                                                                                                                                                                                                                                                                                                                                                                                                                                                                                                                                                                                                                                                           ... \n",
       "Bibliografía Básica:- El derecho colombiano de la seguridad social (2011)Gerardo Arenas MonsalveLegis, Bogotá.- Derecho de la protección social (2009)Juan Carlos Cortés GonzálezLegis, Bogotá.- La pensión como premio o derecho (2011)Ana María Muñoz S.Uniandes-Biblioteca Jurídica, Bogotá.- Principios constitucionales y legales del Derecho del Trabajo en Colombia (2015)Iván Daniel Jaramillo JassirUniversidad del Rosario-Legis, Bogotá.- Reforma al sistema de salud (2011)Juan Carlos Cortés GonzálezLegis, Bogotá.- Los prestadores de servicios de salud (2014)Ricardo Barona BetancourtIbañez, Bogotá.- Régimen de los riesgos laborales en Colombia (2012)Juan Carlos Cortés GonzálezLegis, Bogotá.- Libro blanco del Sistema de Subsidio Familiar (2014)Ministerio del Trabajo-Organización Internacional del TrabajoOIT, Bogotá                                                                                                                                                                                                                                                                                                                                                                                                                                                                                                                                                                                                                                                                                                                                                                                                                                                                                                                                                                                                                                                                                                                                                                                                                                                                                                                                                                                                                                                                                                                                                                                                                                                                                                                                                                                                                                                                                                                                                                                                                                                                                                                                                                                                                                                                                                                                                                                                                                                                                                                                                                                                                                                                                                                                                                                                                                                                                                                                                                                                                                                                                                                                                                                                                                                                            1\n",
       "-ARAYA UMAÑA, Sandra. Las Representaciones sociales: Ejes teóricos para su discusión. Cuaderno de Ciencias Sociales 127 Facultad Latinoamericana de Ciencias Sociales (FLACSO), Costa Rica,2002-Lejarraga, Agustina.La construcción social de la enfermedad. Archivos Argentinosde Pediatría, 2004 102(4) / 271-276-ROJAS URREGO, Alejandro TORRES, Nubia Esperanza & URIBE, Miguel. El sentido y La Construcción de lo Subjetivo. Especialización en Prevención del Maltrato Infantil. Modalidad a Distancia. Pontificia Universidad Javeriana. Facultad de Medicina. Bogotá D.C. 2000.-Philippe Ariès, Philippe. EL NIÑO Y LA VIDA FAMILIAR EN EL ANTIGUO RÉGIMEN CAPÍTULO II. El descubrimiento de la infancia.-República de Colombia. Departamento Nacional de Planeación. Consejo Nacional de Política Económica y Social. Documento CONPES SOCIAL 109 POLÍTICA PÚBLICA NACIONAL DE PRIMERA INFANCIA ¿COLOMBIA POR LA PRIMERA INFANCIA¿, Bogotá, D.C. 2007-PNUD. Objetivos de Desarrollo Sostenible, Colombia. Herramientas de aproximación al contexto local ISBN 978-958-8902-92-0-República de Colombia. Estrategia de atención integral a la primera infancia FUNDAMENTOS POLÍTICOS, TÉCNICOS Y DE GESTIÓN. Bogotá,D.C. 2013-Encuesta Nacional de salud Mental 2015.Tomos I y II-Spencer, Nick, Raman, Shanti, O¿Hare, Bernadette, Tamburlini,Giorgio.-Addressing inequities in child health and development ¿ towards social justice ISSOP position statement on child health inequities - June 2018 update.-TEJEIRO L., CARLOS E. Cátedra por Ia Niñez de Colombia Ciro Angarita, UNICEF Colombia. SOBRE LA PERSONA Y LA FAMlLlA A PROPÓSITO DE UNA Teoría GENERAL DE NINEZ YADOLESCENCIA. Pensamiento y Cultura,No. 3, Bogotá 2000-Papa Francisco. Carta Encíclica Laudato Sí mi Signore. Sobre el Cuidado de la Casa Común. Tipografía Vaticana,2015-TORRES, Nubia Esperanza & ROJAS URREGO, Miguel. Desarrollo Infantil. Especialización en prevención del Maltrato Infantil. Modalidad a Distancia. Pontificia Universidad Javeriana. Facultad de Medicina. Bogotá. D.C. 2000.-Lago B., Gabriel. El maltrato Infantil. Documento de trabajo, Bogotá 2017-UNICEF. Código de la Infancia y la Adolescencia. Versión Comentada, Bogotá, 2007                                                                                                                                                                                                                                                                                                                                                                                                                                                                                                                                                                                                                                                                                                                                                                                                                                                                                                                                                                                                                                                                                                                                                                                                                                                                                                                                                                                                                                                                                                                                                                                                                                                                                                                                                                                                                                                                      1\n",
       "- Allen, F. and Gale, D., Comparing Financial Systems, MIT Press, 2001.- Allen, F. and Santomero, A., ¿What do Financial Intermediaries Do?¿ (2001) 25 Journal of Banking & Finance 271.- Armour, J., Awrey, D., Davies, P., Enriques, L., Gordon, J., Mayer, C., and Payne, J., Principles of Financial Regulation, Oxford University Press, 2016.- Barr, M., Jackson, H., and Taylar, M., Financial Regulation: Law and Policy, Foundation Press (2016)- Bebchuk, L. and Spamann, H., Regulating Bankers¿ Pay, Georgetown Law Review (2010)- Black J. and Baldwin R.,  `Really Responsive Risk-Based Regulation¿, Law & Policy (2010).- Carmichael J. and Pomerleano M.,  `The Principles of Regulation¿, Chapter 2 of The Development and Regulation of Non-Bank Financial Institutions. (2002)- Carnell, R., Macey, J. and Miller, G., The Law of Financial Institutions, 5th Edition, 2013.- Davis, E. and Steil, B., Institutional Investors, MIT Press, 2001.- De Haan, J., Oosterloo,S., and Schoenmaker, D., Financial Markets and Institutions: A European Perspective, 2th Edition, Cambridge University Press, 2012.- Fama, E., ¿Efficient Capital Markets: A Review of Theory and Empirical Work¿ (1970), Journal of Finance 25.- Fama, E., ¿Efficient Capital Markets II¿ (1991), Journal of Finance 46.- Ferran/Payne/Maloney (eds.), Oxford Handbook on Financial Regulation, Oxford University Press, 2015.- Ferrarini/Hopt/Wymeersch (eds.) Financial Regulation and Supervision: A Post-crisis Analysis, Oxford University Press, 2012.- Gleeson, S., International Regulation of Banking, Oxford University Press, 2010.- La Porta, R., Lopez de Silanes, F., and Shleifer, A., What Works in Securities Law? Journal of Finance 61, No. 1, pp. 132.- Lastra, R., Legal Foundations of International Monetary Stability, Oxford University Press, 2006.- Lastra, R. (ed.), The Reform of the International Financial Architecture, Kluwer Law International, 2001.- Lastra, R., International Financial and Monetary Law, Oxford University Press, 2015.- Macey, J. and O¿Hara, M. ¿Regulating Exchanges and Alternative Trading Systems: A Law and Economics Perspective¿ (1999) 28 Journal of Legal Studies 17.- Mishkin, F. and Eakins, S., Financial Markets and Institutions, 6th Edition, Pearson, 2008.- Modigliani, F., Ferri, M. and Fabozzi, F., Foundations of Financial Markets and Institutions, New Jersey, 1998.- Pacces A  `Financial Intermediation in the Securities Markets-Law and Economics of Conduct of Business Regulation¿, International Review of Law and Economics.(2000)- Poser N.,  `The Stock Exchanges of the United States and Europe: Automation, Globalization and Consolidation¿, University of Pennsylvania Journal of International Economic Law, (2011)- Rechtschaffen A., Capital Markets, Derivatives and the Law, Chapter 9, Oxford University Press, (2014) - Romano, R., The Advantage of Competitive Federalism for Securities Regulation, AEI Press, 2002.- Singh D. and LaBrosse J.,  `Developing a Framework for Effective Financial Crisis Management¿, OECD Journal, (2011)- Shiller, R., Finance and the Good Society, Princeton University Press, 2012.- Shiller, R., Irrational Exuberance, 2nd Edition, Princeton University Press, 2005.- Schleifer, A., Inefficient Markets: An Introduction to Behavioral Finance, Oxford University Press, 2000.- Scott, H. and Gelpern, A., International Finance: Transactions, Policy, and Regulation, Foundation Press (2016)- Stout L.A., `Why the Law hates speculators: Regulation and Private Ordering in the market for OTC derivatives¿ (1999) Vol 48:701 Duke L.J. 741- Stout L.A., `Derivatives and the legal origin of the 2008 Credit Crisis¿ (2011) 1HBLR. 1- Tucker, P.,  `Macro and Microprudential Supervision¿, the British Bankers¿ Association Annual International Banking Conference, LondonBibliografía complementaria: - Avgouleas E., `The Global Financial Crisis, Behavioural Finance and Financial Regulation: In Search of a New Orthodoxy¿ (2009)- Awrey D, The Dynamics of      1\n",
       "A.B.W. Kernighan, D.M. Ritchie, ¿El Lenguaje de Programación C¿, Prentice Hall, Englewood Cliffs, New Jersey, 1980.B.¿ISO/IEC 9899¿ http://www.open-std.org/JTC1/SC22/WG14/www/docs/n1124.pdfC.P. Anderson, G. Anderson, ¿Advanced C Tips and Techniques¿, Howard W. Sams & Company, first edition, Indiana, 1989.D.W.B. Frakes, C.J. Fox, B.A. Nejmeh, ¿Software Engineering in the UNIX/C Environment¿E.D.M. Ritchie, ¿The Development of the C Language¿, Bell Labs/Lucent Technologies, Disponible en http://cm.bell-labs.com/cm/cs/who/dmr/chist.htmlF.T.J. Bergin, R.G. Gibson, ¿History of Programming Languages¿, Addison-Wesley Publishing Company, New York, 1996, Disponible en Biblioteca PUJ como 001.6424\\H47G.B.W. Kernighan, ¿Why Pascal is not my favorite programming language¿, Disponible en http://www.lysator.liu.se/c/bwk-on-pascal.htmlH.James A C Joyce, ¿Why C is not my favorite programming language¿, Disponible en http://www.kuro5hin.org/story/2004/2/7/144019/8872I.Erratas del K&R, Disponible en http://cm.bell-labs.com/cm/cs/cbook/2ediffs.htmlJ.http://www.quut.com/c/                                                                                                                                                                                                                                                                                                                                                                                                                                                                                                                                                                                                                                                                                                                                                                                                                                                                                                                                                                                                                                                                                                                                                                                                                                                                                                                                                                                                                                                                                                                                                                                                                                                                                                                                                                                                                                                                                                                                                                                                                                                                                                                                                                                                                                                                                                                                                                                                                                                                                                                                                                                                                                                                                                                                                                                                                                                                                                                                                                                                                  1\n",
       "- Roberto Hernández-SampieriFernández-Collado, Carlos Baptista-Lucio, Pilar. Metodología de la Investigación. Cuarta Edición, McGraw-Hill Interamericana, México DF.Bailey, - Martha J., and Andrew Goodman-Bacon. 2015. The War on Poverty's Experiment in Public Medicine: Community Health Centers and the Mortality of Older Americans.American Economic Review, 105(3): 1067-1104.- Hoyt Bleakley Disease and Development: Evidence from Hookworm Eradication in the American South.The Quarterly Journal of Economics, 122(1): 73 117.- Miguel, E. and Kremer, M. (2004), ¿Worms: Identifying Impacts on Education and Health in the Presence of Treatment Externalities.Econometrica, 72(1): 159 217                                                                                                                                                                                                                                                                                                                                                                                                                                                                                                                                                                                                                                                                                                                                                                                                                                                                                                                                                                                                                                                                                                                                                                                                                                                                                                                                                                                                                                                                                                                                                                                                                                                                                                                                                                                                                                                                                                                                                                                                                                                                                                                                                                                                                                                                                                                                                                                                                                                                                                                                                                                                                                                                                                                                                                                                                                                                                                                                                                                                                                                                                                                                                                                                                                                                                                                                                                                                                   1\n",
       "Name: Recursos Bibliograficos, Length: 7171, dtype: int64"
      ]
     },
     "execution_count": 4,
     "metadata": {},
     "output_type": "execute_result"
    }
   ],
   "source": [
    "df[\"Recursos Bibliograficos\"].value_counts()"
   ]
  },
  {
   "cell_type": "code",
   "execution_count": 5,
   "metadata": {},
   "outputs": [],
   "source": [
    "df[\"inicio\"] = df[\"Recursos Bibliograficos\"].astype(str).apply(lambda x: x[0])"
   ]
  },
  {
   "cell_type": "code",
   "execution_count": 6,
   "metadata": {},
   "outputs": [
    {
     "data": {
      "text/plain": [
       "B    2103\n",
       "A    1689\n",
       "S    1393\n",
       "1    1378\n",
       "-     955\n",
       "¿     841\n",
       "L     837\n",
       "C     764\n",
       "R     677\n",
       "D     469\n",
       "M     466\n",
       "T     344\n",
       "P     327\n",
       "\"     326\n",
       "E     280\n",
       "G     198\n",
       "F     196\n",
       "N     163\n",
       "H     159\n",
       "J     104\n",
       "I      88\n",
       "O      83\n",
       "W      81\n",
       "*      78\n",
       "K      78\n",
       "V      73\n",
       "U      60\n",
       "[      48\n",
       "Á      28\n",
       "(      27\n",
       "w      23\n",
       "6      22\n",
       "l      21\n",
       "Z      19\n",
       "o      17\n",
       "h      15\n",
       "2      12\n",
       "a      11\n",
       "t      10\n",
       "·      10\n",
       "n      10\n",
       "#       9\n",
       ".       6\n",
       "7       6\n",
       "0       4\n",
       "3       3\n",
       "É       3\n",
       "        2\n",
       "5       2\n",
       "i       2\n",
       "?       2\n",
       "8       2\n",
       "Q       2\n",
       "'       2\n",
       "Y       2\n",
       "s       1\n",
       "9       1\n",
       "v       1\n",
       "Name: inicio, dtype: int64"
      ]
     },
     "execution_count": 6,
     "metadata": {},
     "output_type": "execute_result"
    }
   ],
   "source": [
    "df[\"inicio\"].value_counts()"
   ]
  },
  {
   "cell_type": "code",
   "execution_count": 7,
   "metadata": {},
   "outputs": [
    {
     "data": {
      "text/plain": [
       "Departamento de Medicina Interna                      124\n",
       "Departamento de Música                                 69\n",
       "Departamento de Epidemiología Clínica y Bioestadís     57\n",
       "Departamento de Administración                         48\n",
       "Departamento de Ingeniería Industrial                  47\n",
       "Departamento de Ortopedia y Traumatología              36\n",
       "Departamento de Ingeniería Electrónica                 30\n",
       "Departamento de Ingeniería de Sistemas                 29\n",
       "Departamento de Ingeniería Civil                       23\n",
       "Departamento de Teología                               23\n",
       "Departamento de Sistema Cráneo Facial                  22\n",
       "Departamento de Cirugía General                        21\n",
       "Departamento de Enfermería Clínica                     20\n",
       "Departamento de Artes Visuales                         18\n",
       "Departamento de Derecho Público                        17\n",
       "Departamento de Ciencias Contables                     17\n",
       "Departamento de Psiquiatría y Salud Mental             16\n",
       "Departamento de Ciencia Política                       16\n",
       "Departamento de Diseño                                 16\n",
       "Departamento de Relaciones Internacionales             15\n",
       "Departamento de Pediatría                              15\n",
       "Departamento de Filosofía                              15\n",
       "Departamento de Economía                               12\n",
       "Departamento de Microbiología                          12\n",
       "Departamento de Radiología e Imágenes Diagnósticas     11\n",
       "Departamento de Derecho Penal                          10\n",
       "Instituto de Envejecimiento                            10\n",
       "Departamento de Estudios Culturales                     8\n",
       "Instituto de Bioética                                   8\n",
       "Departamento de Ecología y Territorio                   6\n",
       "Departamento de Literatura                              6\n",
       "Centro de Formación Teológica                           6\n",
       "Instituto de Salud Pública                              6\n",
       "Departamento de Nutrición y Bioquímica                  5\n",
       "Departamento de Matemáticas                             5\n",
       "Departamento de Arquitectura                            4\n",
       "Departamento de Comunicación                            4\n",
       "Facultad de Derecho Canónico                            4\n",
       "Departamento de Sociología                              4\n",
       "Instituto de Genética Humana                            3\n",
       "Departamento de Desarrollo Rural y Regional             3\n",
       "Departamento de Derecho Privado                         3\n",
       "Departamento de Sistema Periodontal                     2\n",
       "Departamento de Lenguas                                 2\n",
       "Departamento de Enfermería en Salud Colectiva           2\n",
       "Departamento de Física                                  2\n",
       "Departamento de Biología                                2\n",
       "Departamento de Psicología                              2\n",
       "Departamento de Patología                               2\n",
       "Departamento de Medicina Preventiva                     2\n",
       "Departamento de Ciencia de la Información               1\n",
       "Name: Organización Académica, dtype: int64"
      ]
     },
     "execution_count": 7,
     "metadata": {},
     "output_type": "execute_result"
    }
   ],
   "source": [
    "df[df[\"inicio\"].str.startswith(\"¿\")][\"Organización Académica\"].value_counts()"
   ]
  },
  {
   "cell_type": "code",
   "execution_count": 8,
   "metadata": {},
   "outputs": [
    {
     "data": {
      "text/plain": [
       "Departamento de Desarrollo Rural y Regional    12\n",
       "Departamento de Sistema Dentario               10\n",
       "Departamento de Estética                        8\n",
       "Departamento de Música                          8\n",
       "Departamento de Administración                  6\n",
       "Departamento de Sociología                      6\n",
       "Departamento de Ingeniería Electrónica          5\n",
       "Departamento de Artes Visuales                  4\n",
       "Departamento de Neurociencias                   2\n",
       "Departamento de Ingeniería Industrial           2\n",
       "Departamento de Ingeniería de Sistemas          2\n",
       "Departamento de Psicología                      2\n",
       "Departamento de Ciencias Contables              2\n",
       "Departamento de Medicina Preventiva             2\n",
       "Departamento de Economía                        2\n",
       "Departamento de Derecho Laboral                 2\n",
       "Departamento de Filosofía                       1\n",
       "Departamento de Ciencia Política                1\n",
       "Departamento de Pediatría                       1\n",
       "Name: Organización Académica, dtype: int64"
      ]
     },
     "execution_count": 8,
     "metadata": {},
     "output_type": "execute_result"
    }
   ],
   "source": [
    "df[df[\"inicio\"].str.startswith(\"*\")][\"Organización Académica\"].value_counts()"
   ]
  },
  {
   "cell_type": "code",
   "execution_count": 9,
   "metadata": {},
   "outputs": [
    {
     "data": {
      "text/plain": [
       "Departamento de Medicina Interna                      225\n",
       "Departamento de Cirugía General                       130\n",
       "Departamento de Ingeniería Electrónica                 97\n",
       "Departamento de Ingeniería de Sistemas                 76\n",
       "Departamento de Química                                68\n",
       "Departamento de Psiquiatría y Salud Mental             65\n",
       "Departamento de Economía                               49\n",
       "Departamento de Ingeniería Civil                       48\n",
       "Departamento de Administración                         44\n",
       "Departamento de Sistema Dentario                       40\n",
       "Departamento de Música                                 38\n",
       "Departamento de Ingeniería Industrial                  37\n",
       "Departamento de Microbiología                          35\n",
       "Departamento de Neurociencias                          31\n",
       "Departamento de Sistema Cráneo Facial                  28\n",
       "Departamento de Enfermería en Salud Colectiva          26\n",
       "Departamento de Enfermería Clínica                     19\n",
       "Departamento de Teología                               18\n",
       "Departamento de Ciencias Contables                     18\n",
       "Instituto de Genética Humana                           17\n",
       "Departamento de Física                                 16\n",
       "Departamento de Anestesia                              16\n",
       "Departamento de Relaciones Internacionales             15\n",
       "Departamento de Arquitectura                           14\n",
       "Departamento de Epidemiología Clínica y Bioestadís     14\n",
       "Departamento de Psicología                             14\n",
       "Departamento de Artes Visuales                         13\n",
       "Departamento de Pediatría                              12\n",
       "Departamento de Derecho Público                        11\n",
       "Departamento de Radiología e Imágenes Diagnósticas     11\n",
       "Departamento de Derecho Laboral                        10\n",
       "Instituto de Envejecimiento                             9\n",
       "Departamento de Ecología y Territorio                   8\n",
       "Departamento de Derecho Económico                       8\n",
       "Departamento de Medicina Preventiva                     8\n",
       "Instituto de Bioética                                   8\n",
       "Departamento de Filosofía                               7\n",
       "Departamento de Ginecología y Obstetricia               7\n",
       "Departamento de Derecho Privado                         7\n",
       "Departamento de Ciencia de la Información               7\n",
       "Departamento de Lenguas                                 6\n",
       "Departamento de Sociología                              6\n",
       "Departamento de Historia y Geografía                    4\n",
       "Departamento de Sistema Bucal                           4\n",
       "Departamento de Ciencia Política                        4\n",
       "Departamento de Estética                                4\n",
       "Centro de Formación Teológica                           4\n",
       "Instituto de Salud Pública                              4\n",
       "Departamento de Formación                               4\n",
       "Departamento de Nutrición y Bioquímica                  4\n",
       "Departamento de Morfología                              3\n",
       "Departamento de Biología                                2\n",
       "Departamento de Sistema Periodontal                     2\n",
       "Facultad de Derecho Canónico                            2\n",
       "Departamento de Ciencias Fisiológicas                   1\n",
       "Name: Organización Académica, dtype: int64"
      ]
     },
     "execution_count": 9,
     "metadata": {},
     "output_type": "execute_result"
    }
   ],
   "source": [
    "df[df[\"inicio\"].str.startswith(\"1\")][\"Organización Académica\"].value_counts()"
   ]
  },
  {
   "cell_type": "code",
   "execution_count": 10,
   "metadata": {},
   "outputs": [
    {
     "data": {
      "text/plain": [
       "Departamento de Ingeniería Electrónica    16\n",
       "Departamento de Ingeniería Industrial     12\n",
       "Departamento de Ingeniería de Sistemas     9\n",
       "Departamento de Ingeniería Civil           7\n",
       "Departamento de Física                     2\n",
       "Departamento de Matemáticas                1\n",
       "Departamento de Ciencia Política           1\n",
       "Name: Organización Académica, dtype: int64"
      ]
     },
     "execution_count": 10,
     "metadata": {},
     "output_type": "execute_result"
    }
   ],
   "source": [
    "df[df[\"inicio\"].str.startswith(\"[\")][\"Organización Académica\"].value_counts()"
   ]
  },
  {
   "cell_type": "code",
   "execution_count": null,
   "metadata": {},
   "outputs": [],
   "source": [
    "df[df[\"inicio\"].str.contains(\"[\")][\"Recursos Bibliograficos\"]"
   ]
  },
  {
   "cell_type": "code",
   "execution_count": 21,
   "metadata": {},
   "outputs": [],
   "source": [
    "IEEE = re.compile(r'(?P<numeral>\\[[1-9]\\d{0,2}\\]\\s)'\n",
    "                r'(?P<authors>[a-zA-Z .&]+\\,\\s)'\n",
    "                r'(?P<title>[\\w \\-:\\,\\.\\(\\)]+)'\n",
    "                r'(?P<year>\\d{4})')"
   ]
  },
  {
   "cell_type": "code",
   "execution_count": 26,
   "metadata": {},
   "outputs": [
    {
     "data": {
      "text/plain": [
       "1162     [AAPM197] AAPM Report No. 197 (Academic Progra...\n",
       "2551     [1] *Stiglitz, J. La economía del sector públi...\n",
       "4474     [1] Alaman A., Materiales metálicos de constru...\n",
       "4495     [1].AKAI, T. Métodos Numéricos Aplicados a la ...\n",
       "4551     [KerPike1987] Brian W. Kernighan & Rob Pike - ...\n",
       "4604     [1] Bowman, D. Kruiff, E. LaViola, J. Poupyrev...\n",
       "4606     [1] Foley, J., Van Dam, Computer Graphics: Pri...\n",
       "4656     [ARON] Aronoff stan, Geographic Information Sy...\n",
       "4681     [1]. NAWY, E. (2009) Concreto reforzado, 6ed.,...\n",
       "4686     [1] J.L. Hennessy, D.A. Patterson.  Computer A...\n",
       "4748     [1].COMISION ASESORA PERMANENTE PARA EL REGIME...\n",
       "4770     [1] Stark, H. Woods J. Probability, Random Pro...\n",
       "4794     [1]. TENA, ARTURO. Análisis estructural con mé...\n",
       "4804     [1] R. Hernandez Sampieri, C. Fernandez Collad...\n",
       "4811     [1].COMISION ASESORA PERMANENTE PARA EL REGIME...\n",
       "4817     [1] C. Gavilan, D. Mendez. Sistemas Embebidos ...\n",
       "4819     [BURN2001] Burns, Alan. Wellings, Andy. \"Real-...\n",
       "4825     [1]  S. S. Rao, Enginnering Optimization: Theo...\n",
       "4874     [1] Dumas, Marlon et al., Fundamentals of Busi...\n",
       "4882     [1]Dumas, M., et al. Fundamentals of Business ...\n",
       "4929     [1] RUSSEL, R. Y TAYLOR, B. Operations Managem...\n",
       "4943     [1]Laudon, K., Laudon J., Essencials of Manage...\n",
       "4969     [1]  BALLOU, Ronald. Business Logistics Manage...\n",
       "4979     [1] Nahmias, S. (2014). Análisis de la producc...\n",
       "5064     [1] X. Chen, Massive Access for Cellular Inter...\n",
       "5111     [1] R. Hernandez Sampieri, C. Fernandez Collad...\n",
       "5274     [1] Manual Operativo Prácticas Laborales En El...\n",
       "8626     [AAPM197] AAPM Report No. 197 (Academic Progra...\n",
       "11884    [1] Vijay K. Garg. Wireless network evolution ...\n",
       "11890    [1] SAMPIERE, R., C. Fernández, P. Baptista, M...\n",
       "11893    [1] S. S. Rao, Enginnering Optimization: Theor...\n",
       "11921    [BURN2001] Burns, Alan. Wellings, Andy. \"Real-...\n",
       "11952    [1] R. Hernandez Sampieri, C. Fernandez Collad...\n",
       "11957    [1]D. Patino, Control of limit cycles in hybri...\n",
       "11964    [1] J.L. Hennessy, D.A. Patterson.  Computer A...\n",
       "11969    [1]  S. S. Rao, Enginnering Optimization: Theo...\n",
       "12108    [1] Foley, J., Van Dam, Computer Graphics: Pri...\n",
       "12109    [SILB07] Fundamentos de diseño de bases de dat...\n",
       "12112    [KerPike1987] Brian W. Kernighan & Rob Pike - ...\n",
       "12214    [1] Alaman A., Materiales metálicos de constru...\n",
       "12229    [1]Dumas, M., et al. Fundamentals of Business ...\n",
       "12237    [ARON] Aronoff stan, Geographic Information Sy...\n",
       "12263    [1] Bowman, D. Kruiff, E. LaViola, J. Poupyrev...\n",
       "12274    [1] Nahmias, S. (2014). Análisis de la producc...\n",
       "12290    [1]  BALLOU, Ronald. Business Logistics Manage...\n",
       "12331    [1] RUSSEL, R. Y TAYLOR, B. Operations Managem...\n",
       "12349    [1] Dumas, Marlon et al., Fundamentals of Busi...\n",
       "12373    [1]Laudon, K., Laudon J., Essencials of Manage...\n",
       "Name: Recursos Bibliograficos, dtype: object"
      ]
     },
     "execution_count": 26,
     "metadata": {},
     "output_type": "execute_result"
    }
   ],
   "source": [
    "df[df[\"inicio\"].str.startswith(\"[\")][\"Recursos Bibliograficos\"]"
   ]
  },
  {
   "cell_type": "code",
   "execution_count": 53,
   "metadata": {},
   "outputs": [],
   "source": [
    "for i, row in enumerate(S.values):\n",
    "\tm = IEEE.findall(row)\n",
    "\twith open('./resul/'+str(i)+'.json', 'w') as file:\n",
    "\t\t\tjson.dump(m, file, indent=4)\n",
    "    "
   ]
  }
 ],
 "metadata": {
  "interpreter": {
   "hash": "588bce29ce2b9dde8e6c5fb4590abf07e7a5664697fcab08f492aaaae178b5b2"
  },
  "kernelspec": {
   "display_name": "Python 3",
   "language": "python",
   "name": "python3"
  },
  "language_info": {
   "codemirror_mode": {
    "name": "ipython",
    "version": 3
   },
   "file_extension": ".py",
   "mimetype": "text/x-python",
   "name": "python",
   "nbconvert_exporter": "python",
   "pygments_lexer": "ipython3",
   "version": "3.8.8"
  }
 },
 "nbformat": 4,
 "nbformat_minor": 2
}
