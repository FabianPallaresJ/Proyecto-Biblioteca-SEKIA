{
 "cells": [
  {
   "cell_type": "code",
   "execution_count": 1,
   "source": [
    "import pandas as pd"
   ],
   "outputs": [],
   "metadata": {}
  },
  {
   "cell_type": "code",
   "execution_count": 4,
   "source": [
    "df = pd.read_excel(\"./Datos evaluación sílabos/Catálogo detalles completo 2020.xlsx\", engine='openpyxl')"
   ],
   "outputs": [],
   "metadata": {}
  },
  {
   "cell_type": "code",
   "execution_count": 5,
   "source": [
    "df.columns"
   ],
   "outputs": [
    {
     "output_type": "execute_result",
     "data": {
      "text/plain": [
       "Index(['Entregado en', 'FACULTAD', 'Organización Académica', 'Catálogo',\n",
       "       'Grado', 'ID Curso', 'Nombre asignatura', 'Nombre Largo',\n",
       "       'Descripcion Asig', 'Créditos', 'F Efva', 'Total Horas Contacto',\n",
       "       'Horas contacto semana', 'PRT', 'TEO', 'TPR',\n",
       "       'Condiciones o prerrequisitos', 'Objetivos de Formacion',\n",
       "       'Result Aprendizaje Esperados', 'Contenidos Tematicos',\n",
       "       'Estrategias Pedagogicas', 'Evaluacion', 'Recursos Bibliograficos',\n",
       "       'Asignatura Cerrada', 'Asignatura Coterminal', 'Filosófico',\n",
       "       'En plan de transición', 'Trabajo de Grado', 'Tesis Doctoral',\n",
       "       'Docencia servicio', 'Práctica Profesional - empresarial',\n",
       "       'Práctica Social - comunitaria', 'Práctica Pedagógica',\n",
       "       'Práctica Jurídica', 'Práctica Emprendimiento', '1710', '1730', '1810',\n",
       "       '1830', '1910', '1930', '2010', '2030', 'ID sin parametrizar',\n",
       "       'Gradebook no parametrizado', 'Unnamed: 45', 'Unnamed: 46'],\n",
       "      dtype='object')"
      ]
     },
     "metadata": {},
     "execution_count": 5
    }
   ],
   "metadata": {}
  },
  {
   "cell_type": "code",
   "execution_count": 8,
   "source": [
    "df[\"Recursos Bibliograficos\"].value_counts()"
   ],
   "outputs": [
    {
     "output_type": "execute_result",
     "data": {
      "text/plain": [
       "Sin Informacion                                                                                                                                                                                                                                                                                                                                                                                                                                                                                                                                                                                                                                                                                                                                                                                                                                                                                                                                                                                                                                                                                                                                                                                                                                                                                                                                                                                                                                                                                                                                                                                                                       868\n",
       "Sin información.                                                                                                                                                                                                                                                                                                                                                                                                                                                                                                                                                                                                                                                                                                                                                                                                                                                                                                                                                                                                                                                                                                                                                                                                                                                                                                                                                                                                                                                                                                                                                                                                                      182\n",
       "Los recursos bibliográficos requeridos para cada investigación dependen de la temática específica que trabaja cada estudiante.                                                                                                                                                                                                                                                                                                                                                                                                                                                                                                                                                                                                                                                                                                                                                                                                                                                                                                                                                                                                                                                                                                                                                                                                                                                                                                                                                                                                                                                                                                        100\n",
       "Del Mar, Norman. 2009. Anatomy of the Orchestra. London: Faber and Faber.Lawson, Colin and Robin Stowell. The Historical Performance of Music: An Introduction.Cambridge: Cambridge University Press.Leinsdorf,Erich. 1982.The Composer¿s Advocate: A Radical Ortodoxy for Musicians. New Haven: Yale University Press.McElheran, Brock. 1989. Conducting Technique: For Beginners and Professionals. Oxford: Oxford University Press.Scherchen, Hermann. 1990. Handbook of Conducting.Oxford: Oxford University Press.Thurmond, James Morgan. 2000. Note Grouping: A Method for Achieving Expression and Style in Musical Performance. Galesville: Meredith Music.Brown, Howard Mayer. 1990. Performance Practice: Music After 1600. W.W. Norton & Company.Morris, R.O, and Ferguson, Howard. 1968. Preparatory Exercises in Score Reading.Oxford: Oxford University Press.Daniels, David. 2005. Orchestral Music: A Handbook. Lanham:Scarecrow Press.Stowell, Robin.1990. Violin Technique and Performance Practice in the Late Eighteenth and Early Nineteenth Centuries. Cambridge: Cambridge University Press.Harnoncourt,Nikolaus. 1995. Baroque Music Today: Music as Speech, Ways to a New Understanding of Music. Portland: Amadeus Press.----- 2005. The Musical Dialogue: Thoughts on Monteverdi, Bach and Mozart.Portland: Amadeus Press.Labuta, Joseph A. 1989. Basic Conducting Techniques. New Jersey: Prentice Hall.Hunsberger, Donald y Roy E. Ernst. 1992. The Art of Conducting. New York: McGraw-Hill. Brown, Peter. 2007. The Symphonic Repertoire. Bloomington: Indiana University Press.                        38\n",
       "The Eugene Rousseau Libros I y II. Método para Saxofón Klosé. The Technique of the Saxophone Vol 1, 2, 3 Joseph Viola.Creative reading studies for Saxophone Books 1,2,3 Joseph Viola. Métodos de estudio progresivo para Saxofón de Marcel Mule. Selección de estudios melódicos de J Voxman. 48 Famosos estudios de Ferling. Real Book (Todos los Volumenes) The New Real Book. Sher Music  Co. (Todos los Volúmenes) Parker, Charile. Omnibook.                                                                                                                                                                                                                                                                                                                                                                                                                                                                                                                                                                                                                                                                                                                                                                                                                                                                                                                                                                                                                                                                                                                                                                                     34\n",
       "                                                                                                                                                                                                                                                                                                                                                                                                                                                                                                                                                                                                                                                                                                                                                                                                                                                                                                                                                                                                                                                                                                                                                                                                                                                                                                                                                                                                                                                                                                                                                                                                                                     ... \n",
       "Duchesne Winter, Juan. Hermosos invisibles que nos protegen: Antología wayuu. Pittsburgh: IILI, 2015.Siosi, Vicenta. Cerezas en verano. Cali: Universidad del Valle, 2018.Simanca Pushaina, Estercilia ¿Daño emergente, lucro cesante¿ http://manifiestanosaberfirmar.blogspot.comSacavino, Susana y Canda, Vera María. Multiculturalismo, intercultururalidad y educación: contribuciones desde América Latina. Bogotá: Ediciones Desde Abajo, 2017.                                                                                                                                                                                                                                                                                                                                                                                                                                                                                                                                                                                                                                                                                                                                                                                                                                                                                                                                                                                                                                                                                                                                                                                   1\n",
       "Barnes, J. W., & Lisle, R. J. (2004). Basic geological mapping / John W. Barnes, with Richard J. Lisle (4th ed.). Chichester, West Sussex, Eng.  Hoboken, NJ: Wiley.Bell, F. G. (2007). Engineering geology (2nd ed.). Amsterdam Boston: Butterworth- Heinemann.Blyth, F. G. H., & De Freitas, M. H. (1984). A geology for engineers (7th ed.). London: E.Arnold.                                                                                                                                                                                                                                                                                                                                                                                                                                                                                                                                                                                                                                                                                                                                                                                                                                                                                                                                                                                                                                                                                                                                                                                                                                                                       1\n",
       "¿ Urden, Linda D., Kathleen M. Stacy, and Mary E. Lough. Critical Care Nursing-E-Book: Diagnosis and Management. Elsevier Health Sciences, 2017. ¿ Melia David John, et al. Resuscitation after cardiac surgery in Australia: a survey of practice and the implementation of a training course. Critical Care & Shock, 2018, vol. 21, no 2. ¿ Adam, Sheila OSBORNE, Sue WELCH, John (ed.). Critical care nursing: science and practice. Oxford University Press, 2017. ¿ Fernández Maese José Manuel, García Aranda Francisco Javier, Gómez Fernández Mónica, Ramírez Yáñez Pedro, Rodríguez García-Abad Vera, Sánchez Hernández Eva María, Seoane Bello Montserrat (eds.). Manual de Procedimientos de Enfermería en Cardiología, Madrid, Asociación Española de Enfermería en Cardiología, 2014, 621 pp., 24 x 17 cm.¿ isbn 978-84-697-0208-6 ¿ Rodríguez Morales M.ª Mercedes, Alsina Restoy Xavier (eds.). Manual de Enfermería en Estimulación Cardiaca y Dispositivos Implantables, Barcelona, Asociación Española de Enfermería en Cardiología, 2010, 302 pp., 24 x 17 cm.¿ isbn 978-84-693-1255-1 ¿ Olson, Kate (ed.). Oxford handbook of cardiac nursing. Oxford University Press, 2014. ¿ Capítulo de Enfermería. Enfermería cardiovascular. Editorial distribuna.2014. ¿ Goldfarb, Michael, et al. \"\"Early mobility in frail and non-frail older adults admitted to the cardiovascular intensive care unit.\"\" Journal of critical care (2018). ¿ Loughran, John, et al. \"\"The cardiovascular intensive care unit¿an evolving model for health care delivery.\"\" Journal of intensive care medicine 32.2 (2017): 116-123.      1\n",
       "¿Immanuel Kant: Sein Leben in Darstellungen von Zeitgenossen. Die Biographien von L.E. Borowski, R.B. Jachmann und A.CH. Wasianski: Wissenschaftliche Buchgesellschaft, Darmstadt 1980. ¿Borowski, Ludwig Ernst: Relato de la vida y el carácter de Immanuel Kant: Tecnos, Madrid, 1993. ¿Cassirer, Ernst: Kant: Vida y doctrina, Fondo de Cultura Económica, México 1948. ¿De Quincey, Thomas: Los últimos días de Kant, José Yag es, Madrid 1915 ¿Gulyga, Arsenij: Immanuel Kant, Suhrkamp, Frankfurt am Main, 1985 ¿Vorl nder, Karl: Kants Leben, Felix Meiner Verlag, Hamburg 1986 ¿Fischer Kuno: Vida de Kant, en: http://filosofia.org/hem/dep/rco/0010098.htm¿Muguerza, Javier: Kant y el sueño de la razón, en ¿Kant: de la Crítica a la filosofía de la religión¿, Dulce María Granja Castro (Coord.), Anthropos/Univeridad Autónoma Metropolitana, Barcelona 1994, pg. 125-159.¿Castañeda F., Durán, V., Hoyos L-E.: Immanuel Kant, vigencia de la filosofía crítica, Bogotá, Siglo del Hombre, 2007¿H ffe, Otfried: Immanuel Kant, Herder, Barcelona 1986. ¿Rivera de Rosales, Jacinto: I. Kant: El conocimiento objetivo del mundo. Guia de lectura de la Crítica de la razón pura, UNED, Madrid 1994.                                                                                                                                                                                                                                                                                                                                                                                                                      1\n",
       "ALKER, Hayward. El uso de la matemática en el análisis político. Buenos Aires, Amorrortu editores, 1979.BABBIE, Earl. Manual para la práctica de la investigación social para estudiantes de ciencias Sociales. Madrid: Desclee de Brower. 1996.BENSON, Oliver. El laboratorio de Ciencia Política, Buenos Aires, Amorrortu editores, 1974.BLALOCK, Hubert M. Estadística social. México. Fondo de cultura económica. 1972.BRIONES, Guillermo. Métodos y Técnicas de investigación para las Ciencias Sociales. México, Editorial Trillas, 1990.BRIONES, Guillermo: Métodos y Técnicas avanzadas de investigación aplicadas a la educación y a las Ciencias Sociales. 1988.BUNGE, Mario. La investigación científica. Barcelona. Editorial Ariel, 1976.GARZA MERCADO, Ario. Manual de técnicas de investigación para estudiantes de Ciencias Sociales. México: El Colegio de México. 1988 4ª. Edic.HERNÁNDEZ Sampieri, Roberto y otros. Metodología de la Investigación, 3ª. edición, McGraw-Hill, 2003.MANHEIN, Jarol B. Y RICH, Richard C. Análisis político empírico: Métodos de investigación en ciencia política. Madrid, Alianza Editorial, 1988.SIERRA BRAVO, Restituto. Técnicas de investigación social. Madrid, Paraninfo, 1976.STEVE J. Taylor, R. Bogdan. Introducción a los métodos cualitativos de investigación: la búsqueda de significados. Barcelona: Paidós. 1992.WAYNE W., Daniel. Estadística con aplicaciones a las ciencias sociales y a la educación. México, McGraw-Hill, 1982.                                                                                                                                 1\n",
       "Name: Recursos Bibliograficos, Length: 7171, dtype: int64"
      ]
     },
     "metadata": {},
     "execution_count": 8
    }
   ],
   "metadata": {}
  },
  {
   "cell_type": "code",
   "execution_count": 21,
   "source": [
    "df[\"inicio\"] = df[\"Recursos Bibliograficos\"].astype(str).apply(lambda x: x[0])"
   ],
   "outputs": [],
   "metadata": {}
  },
  {
   "cell_type": "code",
   "execution_count": 22,
   "source": [
    "df[\"inicio\"].value_counts()"
   ],
   "outputs": [
    {
     "output_type": "execute_result",
     "data": {
      "text/plain": [
       "B    2103\n",
       "A    1689\n",
       "S    1393\n",
       "1    1378\n",
       "-     955\n",
       "¿     841\n",
       "L     837\n",
       "C     764\n",
       "R     677\n",
       "D     469\n",
       "M     466\n",
       "T     344\n",
       "P     327\n",
       "\"     326\n",
       "E     280\n",
       "G     198\n",
       "F     196\n",
       "N     163\n",
       "H     159\n",
       "J     104\n",
       "I      88\n",
       "O      83\n",
       "W      81\n",
       "K      78\n",
       "*      78\n",
       "V      73\n",
       "U      60\n",
       "[      48\n",
       "Á      28\n",
       "(      27\n",
       "w      23\n",
       "6      22\n",
       "l      21\n",
       "Z      19\n",
       "o      17\n",
       "h      15\n",
       "2      12\n",
       "a      11\n",
       "t      10\n",
       "n      10\n",
       "·      10\n",
       "#       9\n",
       ".       6\n",
       "7       6\n",
       "0       4\n",
       "É       3\n",
       "3       3\n",
       "'       2\n",
       "Q       2\n",
       "5       2\n",
       "i       2\n",
       "?       2\n",
       "Y       2\n",
       "8       2\n",
       "        2\n",
       "v       1\n",
       "9       1\n",
       "s       1\n",
       "Name: inicio, dtype: int64"
      ]
     },
     "metadata": {},
     "execution_count": 22
    }
   ],
   "metadata": {}
  },
  {
   "cell_type": "code",
   "execution_count": 34,
   "source": [
    "df[df[\"inicio\"].str.startswith(\"¿\")][\"Organización Académica\"].value_counts()"
   ],
   "outputs": [
    {
     "output_type": "execute_result",
     "data": {
      "text/plain": [
       "Departamento de Medicina Interna                      124\n",
       "Departamento de Música                                 69\n",
       "Departamento de Epidemiología Clínica y Bioestadís     57\n",
       "Departamento de Administración                         48\n",
       "Departamento de Ingeniería Industrial                  47\n",
       "Departamento de Ortopedia y Traumatología              36\n",
       "Departamento de Ingeniería Electrónica                 30\n",
       "Departamento de Ingeniería de Sistemas                 29\n",
       "Departamento de Ingeniería Civil                       23\n",
       "Departamento de Teología                               23\n",
       "Departamento de Sistema Cráneo Facial                  22\n",
       "Departamento de Cirugía General                        21\n",
       "Departamento de Enfermería Clínica                     20\n",
       "Departamento de Artes Visuales                         18\n",
       "Departamento de Derecho Público                        17\n",
       "Departamento de Ciencias Contables                     17\n",
       "Departamento de Ciencia Política                       16\n",
       "Departamento de Diseño                                 16\n",
       "Departamento de Psiquiatría y Salud Mental             16\n",
       "Departamento de Filosofía                              15\n",
       "Departamento de Pediatría                              15\n",
       "Departamento de Relaciones Internacionales             15\n",
       "Departamento de Economía                               12\n",
       "Departamento de Microbiología                          12\n",
       "Departamento de Radiología e Imágenes Diagnósticas     11\n",
       "Instituto de Envejecimiento                            10\n",
       "Departamento de Derecho Penal                          10\n",
       "Instituto de Bioética                                   8\n",
       "Departamento de Estudios Culturales                     8\n",
       "Departamento de Ecología y Territorio                   6\n",
       "Departamento de Literatura                              6\n",
       "Centro de Formación Teológica                           6\n",
       "Instituto de Salud Pública                              6\n",
       "Departamento de Matemáticas                             5\n",
       "Departamento de Nutrición y Bioquímica                  5\n",
       "Departamento de Sociología                              4\n",
       "Departamento de Arquitectura                            4\n",
       "Departamento de Comunicación                            4\n",
       "Facultad de Derecho Canónico                            4\n",
       "Departamento de Desarrollo Rural y Regional             3\n",
       "Departamento de Derecho Privado                         3\n",
       "Instituto de Genética Humana                            3\n",
       "Departamento de Lenguas                                 2\n",
       "Departamento de Biología                                2\n",
       "Departamento de Medicina Preventiva                     2\n",
       "Departamento de Enfermería en Salud Colectiva           2\n",
       "Departamento de Patología                               2\n",
       "Departamento de Física                                  2\n",
       "Departamento de Psicología                              2\n",
       "Departamento de Sistema Periodontal                     2\n",
       "Departamento de Ciencia de la Información               1\n",
       "Name: Organización Académica, dtype: int64"
      ]
     },
     "metadata": {},
     "execution_count": 34
    }
   ],
   "metadata": {}
  },
  {
   "cell_type": "code",
   "execution_count": 33,
   "source": [
    "df[df[\"inicio\"].str.startswith(\"*\")][\"Organización Académica\"].value_counts()"
   ],
   "outputs": [
    {
     "output_type": "execute_result",
     "data": {
      "text/plain": [
       "Departamento de Desarrollo Rural y Regional    12\n",
       "Departamento de Sistema Dentario               10\n",
       "Departamento de Música                          8\n",
       "Departamento de Estética                        8\n",
       "Departamento de Administración                  6\n",
       "Departamento de Sociología                      6\n",
       "Departamento de Ingeniería Electrónica          5\n",
       "Departamento de Artes Visuales                  4\n",
       "Departamento de Derecho Laboral                 2\n",
       "Departamento de Medicina Preventiva             2\n",
       "Departamento de Ingeniería de Sistemas          2\n",
       "Departamento de Economía                        2\n",
       "Departamento de Psicología                      2\n",
       "Departamento de Ciencias Contables              2\n",
       "Departamento de Neurociencias                   2\n",
       "Departamento de Ingeniería Industrial           2\n",
       "Departamento de Filosofía                       1\n",
       "Departamento de Ciencia Política                1\n",
       "Departamento de Pediatría                       1\n",
       "Name: Organización Académica, dtype: int64"
      ]
     },
     "metadata": {},
     "execution_count": 33
    }
   ],
   "metadata": {}
  },
  {
   "cell_type": "code",
   "execution_count": 39,
   "source": [
    "df[df[\"inicio\"].str.startswith(\"1\")][\"Organización Académica\"].value_counts()"
   ],
   "outputs": [
    {
     "output_type": "execute_result",
     "data": {
      "text/plain": [
       "Departamento de Medicina Interna                      225\n",
       "Departamento de Cirugía General                       130\n",
       "Departamento de Ingeniería Electrónica                 97\n",
       "Departamento de Ingeniería de Sistemas                 76\n",
       "Departamento de Química                                68\n",
       "Departamento de Psiquiatría y Salud Mental             65\n",
       "Departamento de Economía                               49\n",
       "Departamento de Ingeniería Civil                       48\n",
       "Departamento de Administración                         44\n",
       "Departamento de Sistema Dentario                       40\n",
       "Departamento de Música                                 38\n",
       "Departamento de Ingeniería Industrial                  37\n",
       "Departamento de Microbiología                          35\n",
       "Departamento de Neurociencias                          31\n",
       "Departamento de Sistema Cráneo Facial                  28\n",
       "Departamento de Enfermería en Salud Colectiva          26\n",
       "Departamento de Enfermería Clínica                     19\n",
       "Departamento de Ciencias Contables                     18\n",
       "Departamento de Teología                               18\n",
       "Instituto de Genética Humana                           17\n",
       "Departamento de Anestesia                              16\n",
       "Departamento de Física                                 16\n",
       "Departamento de Relaciones Internacionales             15\n",
       "Departamento de Psicología                             14\n",
       "Departamento de Arquitectura                           14\n",
       "Departamento de Epidemiología Clínica y Bioestadís     14\n",
       "Departamento de Artes Visuales                         13\n",
       "Departamento de Pediatría                              12\n",
       "Departamento de Radiología e Imágenes Diagnósticas     11\n",
       "Departamento de Derecho Público                        11\n",
       "Departamento de Derecho Laboral                        10\n",
       "Instituto de Envejecimiento                             9\n",
       "Instituto de Bioética                                   8\n",
       "Departamento de Medicina Preventiva                     8\n",
       "Departamento de Ecología y Territorio                   8\n",
       "Departamento de Derecho Económico                       8\n",
       "Departamento de Derecho Privado                         7\n",
       "Departamento de Ciencia de la Información               7\n",
       "Departamento de Ginecología y Obstetricia               7\n",
       "Departamento de Filosofía                               7\n",
       "Departamento de Lenguas                                 6\n",
       "Departamento de Sociología                              6\n",
       "Departamento de Historia y Geografía                    4\n",
       "Centro de Formación Teológica                           4\n",
       "Departamento de Formación                               4\n",
       "Instituto de Salud Pública                              4\n",
       "Departamento de Nutrición y Bioquímica                  4\n",
       "Departamento de Sistema Bucal                           4\n",
       "Departamento de Ciencia Política                        4\n",
       "Departamento de Estética                                4\n",
       "Departamento de Morfología                              3\n",
       "Departamento de Biología                                2\n",
       "Facultad de Derecho Canónico                            2\n",
       "Departamento de Sistema Periodontal                     2\n",
       "Departamento de Ciencias Fisiológicas                   1\n",
       "Name: Organización Académica, dtype: int64"
      ]
     },
     "metadata": {},
     "execution_count": 39
    }
   ],
   "metadata": {}
  },
  {
   "cell_type": "code",
   "execution_count": 40,
   "source": [
    "df[df[\"inicio\"].str.startswith(\"[\")][\"Organización Académica\"].value_counts()"
   ],
   "outputs": [
    {
     "output_type": "execute_result",
     "data": {
      "text/plain": [
       "Departamento de Ingeniería Electrónica    16\n",
       "Departamento de Ingeniería Industrial     12\n",
       "Departamento de Ingeniería de Sistemas     9\n",
       "Departamento de Ingeniería Civil           7\n",
       "Departamento de Física                     2\n",
       "Departamento de Ciencia Política           1\n",
       "Departamento de Matemáticas                1\n",
       "Name: Organización Académica, dtype: int64"
      ]
     },
     "metadata": {},
     "execution_count": 40
    }
   ],
   "metadata": {}
  },
  {
   "cell_type": "code",
   "execution_count": 44,
   "source": [
    "df[df[\"inicio\"].str.contains(\"[\")][\"Recursos Bibliograficos\"]"
   ],
   "outputs": [
    {
     "output_type": "error",
     "ename": "error",
     "evalue": "unterminated character set at position 0",
     "traceback": [
      "\u001b[1;31m---------------------------------------------------------------------------\u001b[0m",
      "\u001b[1;31merror\u001b[0m                                     Traceback (most recent call last)",
      "\u001b[1;32m~\\AppData\\Local\\Temp/ipykernel_2264/3019944921.py\u001b[0m in \u001b[0;36m<module>\u001b[1;34m\u001b[0m\n\u001b[1;32m----> 1\u001b[1;33m \u001b[0mdf\u001b[0m\u001b[1;33m[\u001b[0m\u001b[0mdf\u001b[0m\u001b[1;33m[\u001b[0m\u001b[1;34m\"inicio\"\u001b[0m\u001b[1;33m]\u001b[0m\u001b[1;33m.\u001b[0m\u001b[0mstr\u001b[0m\u001b[1;33m.\u001b[0m\u001b[0mcontains\u001b[0m\u001b[1;33m(\u001b[0m\u001b[1;34m\"[\"\u001b[0m\u001b[1;33m)\u001b[0m\u001b[1;33m]\u001b[0m\u001b[1;33m[\u001b[0m\u001b[1;34m\"Recursos Bibliograficos\"\u001b[0m\u001b[1;33m]\u001b[0m\u001b[1;33m\u001b[0m\u001b[1;33m\u001b[0m\u001b[0m\n\u001b[0m",
      "\u001b[1;32m~\\AppData\\Local\\Programs\\Python\\Python39\\lib\\site-packages\\pandas\\core\\strings\\accessor.py\u001b[0m in \u001b[0;36mwrapper\u001b[1;34m(self, *args, **kwargs)\u001b[0m\n\u001b[0;32m     99\u001b[0m                 )\n\u001b[0;32m    100\u001b[0m                 \u001b[1;32mraise\u001b[0m \u001b[0mTypeError\u001b[0m\u001b[1;33m(\u001b[0m\u001b[0mmsg\u001b[0m\u001b[1;33m)\u001b[0m\u001b[1;33m\u001b[0m\u001b[1;33m\u001b[0m\u001b[0m\n\u001b[1;32m--> 101\u001b[1;33m             \u001b[1;32mreturn\u001b[0m \u001b[0mfunc\u001b[0m\u001b[1;33m(\u001b[0m\u001b[0mself\u001b[0m\u001b[1;33m,\u001b[0m \u001b[1;33m*\u001b[0m\u001b[0margs\u001b[0m\u001b[1;33m,\u001b[0m \u001b[1;33m**\u001b[0m\u001b[0mkwargs\u001b[0m\u001b[1;33m)\u001b[0m\u001b[1;33m\u001b[0m\u001b[1;33m\u001b[0m\u001b[0m\n\u001b[0m\u001b[0;32m    102\u001b[0m \u001b[1;33m\u001b[0m\u001b[0m\n\u001b[0;32m    103\u001b[0m         \u001b[0mwrapper\u001b[0m\u001b[1;33m.\u001b[0m\u001b[0m__name__\u001b[0m \u001b[1;33m=\u001b[0m \u001b[0mfunc_name\u001b[0m\u001b[1;33m\u001b[0m\u001b[1;33m\u001b[0m\u001b[0m\n",
      "\u001b[1;32m~\\AppData\\Local\\Programs\\Python\\Python39\\lib\\site-packages\\pandas\\core\\strings\\accessor.py\u001b[0m in \u001b[0;36mcontains\u001b[1;34m(self, pat, case, flags, na, regex)\u001b[0m\n\u001b[0;32m   1108\u001b[0m         \u001b[0mdtype\u001b[0m\u001b[1;33m:\u001b[0m \u001b[0mbool\u001b[0m\u001b[1;33m\u001b[0m\u001b[1;33m\u001b[0m\u001b[0m\n\u001b[0;32m   1109\u001b[0m         \"\"\"\n\u001b[1;32m-> 1110\u001b[1;33m         \u001b[0mresult\u001b[0m \u001b[1;33m=\u001b[0m \u001b[0mself\u001b[0m\u001b[1;33m.\u001b[0m\u001b[0m_data\u001b[0m\u001b[1;33m.\u001b[0m\u001b[0marray\u001b[0m\u001b[1;33m.\u001b[0m\u001b[0m_str_contains\u001b[0m\u001b[1;33m(\u001b[0m\u001b[0mpat\u001b[0m\u001b[1;33m,\u001b[0m \u001b[0mcase\u001b[0m\u001b[1;33m,\u001b[0m \u001b[0mflags\u001b[0m\u001b[1;33m,\u001b[0m \u001b[0mna\u001b[0m\u001b[1;33m,\u001b[0m \u001b[0mregex\u001b[0m\u001b[1;33m)\u001b[0m\u001b[1;33m\u001b[0m\u001b[1;33m\u001b[0m\u001b[0m\n\u001b[0m\u001b[0;32m   1111\u001b[0m         \u001b[1;32mreturn\u001b[0m \u001b[0mself\u001b[0m\u001b[1;33m.\u001b[0m\u001b[0m_wrap_result\u001b[0m\u001b[1;33m(\u001b[0m\u001b[0mresult\u001b[0m\u001b[1;33m,\u001b[0m \u001b[0mfill_value\u001b[0m\u001b[1;33m=\u001b[0m\u001b[0mna\u001b[0m\u001b[1;33m,\u001b[0m \u001b[0mreturns_string\u001b[0m\u001b[1;33m=\u001b[0m\u001b[1;32mFalse\u001b[0m\u001b[1;33m)\u001b[0m\u001b[1;33m\u001b[0m\u001b[1;33m\u001b[0m\u001b[0m\n\u001b[0;32m   1112\u001b[0m \u001b[1;33m\u001b[0m\u001b[0m\n",
      "\u001b[1;32m~\\AppData\\Local\\Programs\\Python\\Python39\\lib\\site-packages\\pandas\\core\\strings\\object_array.py\u001b[0m in \u001b[0;36m_str_contains\u001b[1;34m(self, pat, case, flags, na, regex)\u001b[0m\n\u001b[0;32m    108\u001b[0m                 \u001b[0mflags\u001b[0m \u001b[1;33m|=\u001b[0m \u001b[0mre\u001b[0m\u001b[1;33m.\u001b[0m\u001b[0mIGNORECASE\u001b[0m\u001b[1;33m\u001b[0m\u001b[1;33m\u001b[0m\u001b[0m\n\u001b[0;32m    109\u001b[0m \u001b[1;33m\u001b[0m\u001b[0m\n\u001b[1;32m--> 110\u001b[1;33m             \u001b[0mregex\u001b[0m \u001b[1;33m=\u001b[0m \u001b[0mre\u001b[0m\u001b[1;33m.\u001b[0m\u001b[0mcompile\u001b[0m\u001b[1;33m(\u001b[0m\u001b[0mpat\u001b[0m\u001b[1;33m,\u001b[0m \u001b[0mflags\u001b[0m\u001b[1;33m=\u001b[0m\u001b[0mflags\u001b[0m\u001b[1;33m)\u001b[0m\u001b[1;33m\u001b[0m\u001b[1;33m\u001b[0m\u001b[0m\n\u001b[0m\u001b[0;32m    111\u001b[0m \u001b[1;33m\u001b[0m\u001b[0m\n\u001b[0;32m    112\u001b[0m             \u001b[1;32mif\u001b[0m \u001b[0mregex\u001b[0m\u001b[1;33m.\u001b[0m\u001b[0mgroups\u001b[0m \u001b[1;33m>\u001b[0m \u001b[1;36m0\u001b[0m\u001b[1;33m:\u001b[0m\u001b[1;33m\u001b[0m\u001b[1;33m\u001b[0m\u001b[0m\n",
      "\u001b[1;32m~\\AppData\\Local\\Programs\\Python\\Python39\\lib\\re.py\u001b[0m in \u001b[0;36mcompile\u001b[1;34m(pattern, flags)\u001b[0m\n\u001b[0;32m    250\u001b[0m \u001b[1;32mdef\u001b[0m \u001b[0mcompile\u001b[0m\u001b[1;33m(\u001b[0m\u001b[0mpattern\u001b[0m\u001b[1;33m,\u001b[0m \u001b[0mflags\u001b[0m\u001b[1;33m=\u001b[0m\u001b[1;36m0\u001b[0m\u001b[1;33m)\u001b[0m\u001b[1;33m:\u001b[0m\u001b[1;33m\u001b[0m\u001b[1;33m\u001b[0m\u001b[0m\n\u001b[0;32m    251\u001b[0m     \u001b[1;34m\"Compile a regular expression pattern, returning a Pattern object.\"\u001b[0m\u001b[1;33m\u001b[0m\u001b[1;33m\u001b[0m\u001b[0m\n\u001b[1;32m--> 252\u001b[1;33m     \u001b[1;32mreturn\u001b[0m \u001b[0m_compile\u001b[0m\u001b[1;33m(\u001b[0m\u001b[0mpattern\u001b[0m\u001b[1;33m,\u001b[0m \u001b[0mflags\u001b[0m\u001b[1;33m)\u001b[0m\u001b[1;33m\u001b[0m\u001b[1;33m\u001b[0m\u001b[0m\n\u001b[0m\u001b[0;32m    253\u001b[0m \u001b[1;33m\u001b[0m\u001b[0m\n\u001b[0;32m    254\u001b[0m \u001b[1;32mdef\u001b[0m \u001b[0mpurge\u001b[0m\u001b[1;33m(\u001b[0m\u001b[1;33m)\u001b[0m\u001b[1;33m:\u001b[0m\u001b[1;33m\u001b[0m\u001b[1;33m\u001b[0m\u001b[0m\n",
      "\u001b[1;32m~\\AppData\\Local\\Programs\\Python\\Python39\\lib\\re.py\u001b[0m in \u001b[0;36m_compile\u001b[1;34m(pattern, flags)\u001b[0m\n\u001b[0;32m    302\u001b[0m     \u001b[1;32mif\u001b[0m \u001b[1;32mnot\u001b[0m \u001b[0msre_compile\u001b[0m\u001b[1;33m.\u001b[0m\u001b[0misstring\u001b[0m\u001b[1;33m(\u001b[0m\u001b[0mpattern\u001b[0m\u001b[1;33m)\u001b[0m\u001b[1;33m:\u001b[0m\u001b[1;33m\u001b[0m\u001b[1;33m\u001b[0m\u001b[0m\n\u001b[0;32m    303\u001b[0m         \u001b[1;32mraise\u001b[0m \u001b[0mTypeError\u001b[0m\u001b[1;33m(\u001b[0m\u001b[1;34m\"first argument must be string or compiled pattern\"\u001b[0m\u001b[1;33m)\u001b[0m\u001b[1;33m\u001b[0m\u001b[1;33m\u001b[0m\u001b[0m\n\u001b[1;32m--> 304\u001b[1;33m     \u001b[0mp\u001b[0m \u001b[1;33m=\u001b[0m \u001b[0msre_compile\u001b[0m\u001b[1;33m.\u001b[0m\u001b[0mcompile\u001b[0m\u001b[1;33m(\u001b[0m\u001b[0mpattern\u001b[0m\u001b[1;33m,\u001b[0m \u001b[0mflags\u001b[0m\u001b[1;33m)\u001b[0m\u001b[1;33m\u001b[0m\u001b[1;33m\u001b[0m\u001b[0m\n\u001b[0m\u001b[0;32m    305\u001b[0m     \u001b[1;32mif\u001b[0m \u001b[1;32mnot\u001b[0m \u001b[1;33m(\u001b[0m\u001b[0mflags\u001b[0m \u001b[1;33m&\u001b[0m \u001b[0mDEBUG\u001b[0m\u001b[1;33m)\u001b[0m\u001b[1;33m:\u001b[0m\u001b[1;33m\u001b[0m\u001b[1;33m\u001b[0m\u001b[0m\n\u001b[0;32m    306\u001b[0m         \u001b[1;32mif\u001b[0m \u001b[0mlen\u001b[0m\u001b[1;33m(\u001b[0m\u001b[0m_cache\u001b[0m\u001b[1;33m)\u001b[0m \u001b[1;33m>=\u001b[0m \u001b[0m_MAXCACHE\u001b[0m\u001b[1;33m:\u001b[0m\u001b[1;33m\u001b[0m\u001b[1;33m\u001b[0m\u001b[0m\n",
      "\u001b[1;32m~\\AppData\\Local\\Programs\\Python\\Python39\\lib\\sre_compile.py\u001b[0m in \u001b[0;36mcompile\u001b[1;34m(p, flags)\u001b[0m\n\u001b[0;32m    762\u001b[0m     \u001b[1;32mif\u001b[0m \u001b[0misstring\u001b[0m\u001b[1;33m(\u001b[0m\u001b[0mp\u001b[0m\u001b[1;33m)\u001b[0m\u001b[1;33m:\u001b[0m\u001b[1;33m\u001b[0m\u001b[1;33m\u001b[0m\u001b[0m\n\u001b[0;32m    763\u001b[0m         \u001b[0mpattern\u001b[0m \u001b[1;33m=\u001b[0m \u001b[0mp\u001b[0m\u001b[1;33m\u001b[0m\u001b[1;33m\u001b[0m\u001b[0m\n\u001b[1;32m--> 764\u001b[1;33m         \u001b[0mp\u001b[0m \u001b[1;33m=\u001b[0m \u001b[0msre_parse\u001b[0m\u001b[1;33m.\u001b[0m\u001b[0mparse\u001b[0m\u001b[1;33m(\u001b[0m\u001b[0mp\u001b[0m\u001b[1;33m,\u001b[0m \u001b[0mflags\u001b[0m\u001b[1;33m)\u001b[0m\u001b[1;33m\u001b[0m\u001b[1;33m\u001b[0m\u001b[0m\n\u001b[0m\u001b[0;32m    765\u001b[0m     \u001b[1;32melse\u001b[0m\u001b[1;33m:\u001b[0m\u001b[1;33m\u001b[0m\u001b[1;33m\u001b[0m\u001b[0m\n\u001b[0;32m    766\u001b[0m         \u001b[0mpattern\u001b[0m \u001b[1;33m=\u001b[0m \u001b[1;32mNone\u001b[0m\u001b[1;33m\u001b[0m\u001b[1;33m\u001b[0m\u001b[0m\n",
      "\u001b[1;32m~\\AppData\\Local\\Programs\\Python\\Python39\\lib\\sre_parse.py\u001b[0m in \u001b[0;36mparse\u001b[1;34m(str, flags, state)\u001b[0m\n\u001b[0;32m    946\u001b[0m \u001b[1;33m\u001b[0m\u001b[0m\n\u001b[0;32m    947\u001b[0m     \u001b[1;32mtry\u001b[0m\u001b[1;33m:\u001b[0m\u001b[1;33m\u001b[0m\u001b[1;33m\u001b[0m\u001b[0m\n\u001b[1;32m--> 948\u001b[1;33m         \u001b[0mp\u001b[0m \u001b[1;33m=\u001b[0m \u001b[0m_parse_sub\u001b[0m\u001b[1;33m(\u001b[0m\u001b[0msource\u001b[0m\u001b[1;33m,\u001b[0m \u001b[0mstate\u001b[0m\u001b[1;33m,\u001b[0m \u001b[0mflags\u001b[0m \u001b[1;33m&\u001b[0m \u001b[0mSRE_FLAG_VERBOSE\u001b[0m\u001b[1;33m,\u001b[0m \u001b[1;36m0\u001b[0m\u001b[1;33m)\u001b[0m\u001b[1;33m\u001b[0m\u001b[1;33m\u001b[0m\u001b[0m\n\u001b[0m\u001b[0;32m    949\u001b[0m     \u001b[1;32mexcept\u001b[0m \u001b[0mVerbose\u001b[0m\u001b[1;33m:\u001b[0m\u001b[1;33m\u001b[0m\u001b[1;33m\u001b[0m\u001b[0m\n\u001b[0;32m    950\u001b[0m         \u001b[1;31m# the VERBOSE flag was switched on inside the pattern.  to be\u001b[0m\u001b[1;33m\u001b[0m\u001b[1;33m\u001b[0m\u001b[1;33m\u001b[0m\u001b[0m\n",
      "\u001b[1;32m~\\AppData\\Local\\Programs\\Python\\Python39\\lib\\sre_parse.py\u001b[0m in \u001b[0;36m_parse_sub\u001b[1;34m(source, state, verbose, nested)\u001b[0m\n\u001b[0;32m    441\u001b[0m     \u001b[0mstart\u001b[0m \u001b[1;33m=\u001b[0m \u001b[0msource\u001b[0m\u001b[1;33m.\u001b[0m\u001b[0mtell\u001b[0m\u001b[1;33m(\u001b[0m\u001b[1;33m)\u001b[0m\u001b[1;33m\u001b[0m\u001b[1;33m\u001b[0m\u001b[0m\n\u001b[0;32m    442\u001b[0m     \u001b[1;32mwhile\u001b[0m \u001b[1;32mTrue\u001b[0m\u001b[1;33m:\u001b[0m\u001b[1;33m\u001b[0m\u001b[1;33m\u001b[0m\u001b[0m\n\u001b[1;32m--> 443\u001b[1;33m         itemsappend(_parse(source, state, verbose, nested + 1,\n\u001b[0m\u001b[0;32m    444\u001b[0m                            not nested and not items))\n\u001b[0;32m    445\u001b[0m         \u001b[1;32mif\u001b[0m \u001b[1;32mnot\u001b[0m \u001b[0msourcematch\u001b[0m\u001b[1;33m(\u001b[0m\u001b[1;34m\"|\"\u001b[0m\u001b[1;33m)\u001b[0m\u001b[1;33m:\u001b[0m\u001b[1;33m\u001b[0m\u001b[1;33m\u001b[0m\u001b[0m\n",
      "\u001b[1;32m~\\AppData\\Local\\Programs\\Python\\Python39\\lib\\sre_parse.py\u001b[0m in \u001b[0;36m_parse\u001b[1;34m(source, state, verbose, nested, first)\u001b[0m\n\u001b[0;32m    547\u001b[0m                 \u001b[0mthis\u001b[0m \u001b[1;33m=\u001b[0m \u001b[0msourceget\u001b[0m\u001b[1;33m(\u001b[0m\u001b[1;33m)\u001b[0m\u001b[1;33m\u001b[0m\u001b[1;33m\u001b[0m\u001b[0m\n\u001b[0;32m    548\u001b[0m                 \u001b[1;32mif\u001b[0m \u001b[0mthis\u001b[0m \u001b[1;32mis\u001b[0m \u001b[1;32mNone\u001b[0m\u001b[1;33m:\u001b[0m\u001b[1;33m\u001b[0m\u001b[1;33m\u001b[0m\u001b[0m\n\u001b[1;32m--> 549\u001b[1;33m                     raise source.error(\"unterminated character set\",\n\u001b[0m\u001b[0;32m    550\u001b[0m                                        source.tell() - here)\n\u001b[0;32m    551\u001b[0m                 \u001b[1;32mif\u001b[0m \u001b[0mthis\u001b[0m \u001b[1;33m==\u001b[0m \u001b[1;34m\"]\"\u001b[0m \u001b[1;32mand\u001b[0m \u001b[0mset\u001b[0m\u001b[1;33m:\u001b[0m\u001b[1;33m\u001b[0m\u001b[1;33m\u001b[0m\u001b[0m\n",
      "\u001b[1;31merror\u001b[0m: unterminated character set at position 0"
     ]
    }
   ],
   "metadata": {}
  },
  {
   "cell_type": "code",
   "execution_count": 30,
   "source": [
    "df[df[\"inicio\"].str.startswith(\"5\")][\"Recursos Bibliograficos\"]"
   ],
   "outputs": [
    {
     "output_type": "execute_result",
     "data": {
      "text/plain": [
       "5707     5.Bibliografía¿Longo, Fauci, Kasper, Hauser, J...\n",
       "13217    5.Bibliografía¿Longo, Fauci, Kasper, Hauser, J...\n",
       "Name: Recursos Bibliograficos, dtype: object"
      ]
     },
     "metadata": {},
     "execution_count": 30
    }
   ],
   "metadata": {}
  }
 ],
 "metadata": {
  "orig_nbformat": 4,
  "language_info": {
   "name": "python",
   "version": "3.9.5",
   "mimetype": "text/x-python",
   "codemirror_mode": {
    "name": "ipython",
    "version": 3
   },
   "pygments_lexer": "ipython3",
   "nbconvert_exporter": "python",
   "file_extension": ".py"
  },
  "kernelspec": {
   "name": "python3",
   "display_name": "Python 3.9.5 64-bit"
  },
  "interpreter": {
   "hash": "0e8d0ac39b1413ea33709178b964b2087a06d965eda941592b6cf0c40c84602b"
  }
 },
 "nbformat": 4,
 "nbformat_minor": 2
}